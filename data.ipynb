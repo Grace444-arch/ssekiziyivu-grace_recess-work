{
 "cells": [
  {
   "cell_type": "code",
   "execution_count": null,
   "id": "7e772129",
   "metadata": {},
   "outputs": [
    {
     "name": "stdout",
     "output_type": "stream",
     "text": [
      "hello uganda\n"
     ]
    }
   ],
   "source": [
    "\n",
    "print(\"hello uganda\")"
   ]
  },
  {
   "cell_type": "code",
   "execution_count": 2,
   "id": "f498d873",
   "metadata": {},
   "outputs": [
    {
     "name": "stdout",
     "output_type": "stream",
     "text": [
      "i love data science\n"
     ]
    }
   ],
   "source": [
    "print(\"i love data science\")"
   ]
  }
 ],
 "metadata": {
  "kernelspec": {
   "display_name": ".venv",
   "language": "python",
   "name": "python3"
  },
  "language_info": {
   "codemirror_mode": {
    "name": "ipython",
    "version": 3
   },
   "file_extension": ".py",
   "mimetype": "text/x-python",
   "name": "python",
   "nbconvert_exporter": "python",
   "pygments_lexer": "ipython3",
   "version": "3.13.3"
  }
 },
 "nbformat": 4,
 "nbformat_minor": 5
}
