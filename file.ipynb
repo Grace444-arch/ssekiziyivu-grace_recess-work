{
 "cells": [
  {
   "cell_type": "code",
   "execution_count": null,
   "id": "df5157e2",
   "metadata": {},
   "outputs": [],
   "source": []
  },
  {
   "cell_type": "code",
   "execution_count": 4,
   "id": "0b5af135",
   "metadata": {},
   "outputs": [],
   "source": [
    "#reading and writing files\n",
    "#open \n",
    "file = open('grace.txt', 'r')"
   ]
  },
  {
   "cell_type": "code",
   "execution_count": 5,
   "id": "bc9cb2e8",
   "metadata": {},
   "outputs": [
    {
     "name": "stdout",
     "output_type": "stream",
     "text": [
      "\n"
     ]
    }
   ],
   "source": [
    "content = file.read()\n",
    "print(content)\n",
    "file.close()"
   ]
  },
  {
   "cell_type": "code",
   "execution_count": 7,
   "id": "e7da68ab",
   "metadata": {},
   "outputs": [],
   "source": [
    "with open(\"deo.txt\", \"w\") as file:\n",
    "    file.write(\"welcome to writing files first line\\n\")"
   ]
  }
 ],
 "metadata": {
  "kernelspec": {
   "display_name": ".venv",
   "language": "python",
   "name": "python3"
  },
  "language_info": {
   "codemirror_mode": {
    "name": "ipython",
    "version": 3
   },
   "file_extension": ".py",
   "mimetype": "text/x-python",
   "name": "python",
   "nbconvert_exporter": "python",
   "pygments_lexer": "ipython3",
   "version": "3.13.3"
  }
 },
 "nbformat": 4,
 "nbformat_minor": 5
}
